{
 "cells": [
  {
   "cell_type": "markdown",
   "metadata": {},
   "source": [
    "# Data Science Exercise-1, fuzzy record matching program from the given input data sets."
   ]
  },
  {
   "cell_type": "code",
   "execution_count": 36,
   "metadata": {},
   "outputs": [
    {
     "name": "stdout",
     "output_type": "stream",
     "text": [
      "Collecting package metadata (current_repodata.json): ...working... done\n",
      "Solving environment: ...working... done\n",
      "\n",
      "# All requested packages already installed.\n",
      "\n",
      "Requirement already satisfied: fuzzymatcher in c:\\users\\hp\\anaconda3\\lib\\site-packages (0.0.5)\n",
      "Requirement already satisfied: metaphone in c:\\users\\hp\\anaconda3\\lib\\site-packages (from fuzzymatcher) (0.6)\n",
      "Requirement already satisfied: python-dateutil in c:\\users\\hp\\anaconda3\\lib\\site-packages (from fuzzymatcher) (2.8.2)\n",
      "Requirement already satisfied: pandas in c:\\users\\hp\\anaconda3\\lib\\site-packages (from fuzzymatcher) (1.3.4)\n",
      "Requirement already satisfied: fuzzywuzzy in c:\\users\\hp\\anaconda3\\lib\\site-packages (from fuzzymatcher) (0.18.0)\n",
      "Requirement already satisfied: python-Levenshtein in c:\\users\\hp\\anaconda3\\lib\\site-packages (from fuzzymatcher) (0.12.2)\n",
      "Requirement already satisfied: numpy>=1.17.3 in c:\\users\\hp\\anaconda3\\lib\\site-packages (from pandas->fuzzymatcher) (1.20.3)\n",
      "Requirement already satisfied: pytz>=2017.3 in c:\\users\\hp\\anaconda3\\lib\\site-packages (from pandas->fuzzymatcher) (2021.3)\n",
      "Requirement already satisfied: six>=1.5 in c:\\users\\hp\\anaconda3\\lib\\site-packages (from python-dateutil->fuzzymatcher) (1.16.0)\n",
      "Requirement already satisfied: setuptools in c:\\users\\hp\\anaconda3\\lib\\site-packages (from python-Levenshtein->fuzzymatcher) (58.0.4)\n",
      "Requirement already satisfied: recordlinkage in c:\\users\\hp\\anaconda3\\lib\\site-packages (0.14)\n",
      "Requirement already satisfied: joblib in c:\\users\\hp\\anaconda3\\lib\\site-packages (from recordlinkage) (1.1.0)\n",
      "Requirement already satisfied: scipy>=1 in c:\\users\\hp\\anaconda3\\lib\\site-packages (from recordlinkage) (1.7.1)\n",
      "Requirement already satisfied: numpy>=1.13.0 in c:\\users\\hp\\anaconda3\\lib\\site-packages (from recordlinkage) (1.20.3)\n",
      "Requirement already satisfied: pandas>=0.23 in c:\\users\\hp\\anaconda3\\lib\\site-packages (from recordlinkage) (1.3.4)\n",
      "Requirement already satisfied: jellyfish>=0.5.4 in c:\\users\\hp\\anaconda3\\lib\\site-packages (from recordlinkage) (0.9.0)\n",
      "Requirement already satisfied: scikit-learn>=0.19.0 in c:\\users\\hp\\anaconda3\\lib\\site-packages (from recordlinkage) (0.24.2)\n",
      "Requirement already satisfied: python-dateutil>=2.7.3 in c:\\users\\hp\\anaconda3\\lib\\site-packages (from pandas>=0.23->recordlinkage) (2.8.2)\n",
      "Requirement already satisfied: pytz>=2017.3 in c:\\users\\hp\\anaconda3\\lib\\site-packages (from pandas>=0.23->recordlinkage) (2021.3)\n",
      "Requirement already satisfied: six>=1.5 in c:\\users\\hp\\anaconda3\\lib\\site-packages (from python-dateutil>=2.7.3->pandas>=0.23->recordlinkage) (1.16.0)\n",
      "Requirement already satisfied: threadpoolctl>=2.0.0 in c:\\users\\hp\\anaconda3\\lib\\site-packages (from scikit-learn>=0.19.0->recordlinkage) (2.2.0)\n"
     ]
    }
   ],
   "source": [
    "#Required PACKAES to install\n",
    "#The Levenshtein distance is a number that tells you how different two strings are. \n",
    "#The higher the number, the more different the two strings are.\n",
    "!conda install -c conda-forge python-levenshtein\n",
    "!pip install fuzzymatcher\n",
    "!pip install recordlinkage"
   ]
  },
  {
   "cell_type": "code",
   "execution_count": 37,
   "metadata": {},
   "outputs": [],
   "source": [
    "#Pre requisite to run the python notebook\n",
    "#\"sqlite-dll-win64-x64-3370200.zip\" this dll need to be downloaded from 'https://www.sqlite.org/download.html'\n",
    "#From the above archived file 'sqlite3.dll' need to copy to local python bin folder example#'C:\\Users\\HP\\anaconda3\\Library\\bin'\n",
    "#Once dll is copied to local machine, windows machine need to restart."
   ]
  },
  {
   "cell_type": "code",
   "execution_count": 38,
   "metadata": {},
   "outputs": [],
   "source": [
    "#Fuzzymatches uses sqlite3's Full Text Search to find potential matches.\n",
    "#It then uses probabilistic record linkage to score matches.\n",
    "#Finally it outputs a list of the matches it has found and associated score."
   ]
  },
  {
   "cell_type": "markdown",
   "metadata": {},
   "source": [
    "fuzzymatcher uses a number of components, each one of which can be re-written or adapted by the user:\n",
    "\n",
    "data_preprocessor: Responsible for normalising strings, removing punctuation etc.\n",
    "datagetter: Responsible for finding a list of possible matches for each df_left record in df_right\n",
    "scorer: Responsible for computing a match score, given a record from dataframe_left and dataframe_right respectively."
   ]
  },
  {
   "cell_type": "code",
   "execution_count": 39,
   "metadata": {},
   "outputs": [],
   "source": [
    "#Importing required python libraries\n",
    "import pandas as pd\n",
    "from pathlib import Path\n",
    "import fuzzymatcher\n",
    "import recordlinkage"
   ]
  },
  {
   "cell_type": "code",
   "execution_count": 40,
   "metadata": {},
   "outputs": [],
   "source": [
    "#Created two csv files from the given input file to separate query and refernce data.\n",
    "#Re indexed the reference dataframe with '0' since Fuzzymatches linkage works on Zero based indexing\n",
    "#Creating reference/Query dataframes from the above created csv files.\n",
    "Query_df = pd.read_csv('C:\\\\Sanjeev\\\\Juniper\\\\Query.csv')\n",
    "reference_df = pd.read_csv('C:\\\\Sanjeev\\\\Juniper\\\\reference.csv')"
   ]
  },
  {
   "cell_type": "code",
   "execution_count": 41,
   "metadata": {},
   "outputs": [
    {
     "data": {
      "text/plain": [
       "((782, 5), (82, 7))"
      ]
     },
     "execution_count": 41,
     "metadata": {},
     "output_type": "execute_result"
    }
   ],
   "source": [
    "#Created data frames\n",
    "reference_df.shape, Query_df.shape"
   ]
  },
  {
   "cell_type": "code",
   "execution_count": 42,
   "metadata": {},
   "outputs": [
    {
     "data": {
      "text/html": [
       "<div>\n",
       "<style scoped>\n",
       "    .dataframe tbody tr th:only-of-type {\n",
       "        vertical-align: middle;\n",
       "    }\n",
       "\n",
       "    .dataframe tbody tr th {\n",
       "        vertical-align: top;\n",
       "    }\n",
       "\n",
       "    .dataframe thead th {\n",
       "        text-align: right;\n",
       "    }\n",
       "</style>\n",
       "<table border=\"1\" class=\"dataframe\">\n",
       "  <thead>\n",
       "    <tr style=\"text-align: right;\">\n",
       "      <th></th>\n",
       "      <th>id</th>\n",
       "      <th>name</th>\n",
       "      <th>address</th>\n",
       "      <th>city</th>\n",
       "      <th>cuisine</th>\n",
       "    </tr>\n",
       "  </thead>\n",
       "  <tbody>\n",
       "    <tr>\n",
       "      <th>0</th>\n",
       "      <td>0</td>\n",
       "      <td>arnie morton's of chicago</td>\n",
       "      <td>435 s. la cienega blv.</td>\n",
       "      <td>los angeles</td>\n",
       "      <td>american</td>\n",
       "    </tr>\n",
       "    <tr>\n",
       "      <th>1</th>\n",
       "      <td>1</td>\n",
       "      <td>art's delicatessen</td>\n",
       "      <td>12224 ventura blvd.</td>\n",
       "      <td>studio city</td>\n",
       "      <td>american</td>\n",
       "    </tr>\n",
       "    <tr>\n",
       "      <th>2</th>\n",
       "      <td>2</td>\n",
       "      <td>hotel bel-air</td>\n",
       "      <td>701 stone canyon rd.</td>\n",
       "      <td>bel air</td>\n",
       "      <td>californian</td>\n",
       "    </tr>\n",
       "    <tr>\n",
       "      <th>3</th>\n",
       "      <td>3</td>\n",
       "      <td>cafe bizou</td>\n",
       "      <td>14016 ventura blvd.</td>\n",
       "      <td>sherman oaks</td>\n",
       "      <td>french</td>\n",
       "    </tr>\n",
       "    <tr>\n",
       "      <th>4</th>\n",
       "      <td>4</td>\n",
       "      <td>campanile</td>\n",
       "      <td>624 s. la brea ave.</td>\n",
       "      <td>los angeles</td>\n",
       "      <td>american</td>\n",
       "    </tr>\n",
       "  </tbody>\n",
       "</table>\n",
       "</div>"
      ],
      "text/plain": [
       "   id                       name                  address           city  \\\n",
       "0   0  arnie morton's of chicago   435 s. la cienega blv.    los angeles   \n",
       "1   1         art's delicatessen      12224 ventura blvd.    studio city   \n",
       "2   2              hotel bel-air     701 stone canyon rd.        bel air   \n",
       "3   3                 cafe bizou      14016 ventura blvd.   sherman oaks   \n",
       "4   4                  campanile      624 s. la brea ave.    los angeles   \n",
       "\n",
       "        cuisine  \n",
       "0      american  \n",
       "1      american  \n",
       "2   californian  \n",
       "3        french  \n",
       "4      american  "
      ]
     },
     "execution_count": 42,
     "metadata": {},
     "output_type": "execute_result"
    }
   ],
   "source": [
    "#Dataframe rows\n",
    "reference_df.head()"
   ]
  },
  {
   "cell_type": "code",
   "execution_count": 43,
   "metadata": {},
   "outputs": [],
   "source": [
    "# Selecting common Columns to match reference and query dataframes\n",
    "left_on = [\"name\",\"address\",\"city\", \"cuisine\"]\n",
    "right_on = [\"name\",\"address\",\"city\", \"cuisine\"]"
   ]
  },
  {
   "cell_type": "code",
   "execution_count": 44,
   "metadata": {},
   "outputs": [],
   "source": [
    "#importing fts4 virtual table from sqlite3\n",
    "import sqlite3\n",
    "from sqlite_fts4 import register_functions\n",
    "\n",
    "conn = sqlite3.connect(\":memory:\")\n",
    "register_functions(conn)"
   ]
  },
  {
   "cell_type": "code",
   "execution_count": 45,
   "metadata": {},
   "outputs": [
    {
     "name": "stdout",
     "output_type": "stream",
     "text": [
      "sqlite (2, 6, 0)\n",
      "sqlite (3, 37, 2)\n",
      "sqlite C:\\Users\\HP\\anaconda3\\lib\\sqlite3\\__init__.py\n",
      "('ATOMIC_INTRINSICS=0',)\n",
      "('COMPILER=msvc-1500',)\n",
      "('DEFAULT_AUTOVACUUM',)\n",
      "('DEFAULT_CACHE_SIZE=-2000',)\n",
      "('DEFAULT_FILE_FORMAT=4',)\n",
      "('DEFAULT_JOURNAL_SIZE_LIMIT=-1',)\n",
      "('DEFAULT_MMAP_SIZE=0',)\n",
      "('DEFAULT_PAGE_SIZE=4096',)\n",
      "('DEFAULT_PCACHE_INITSZ=20',)\n",
      "('DEFAULT_RECURSIVE_TRIGGERS',)\n",
      "('DEFAULT_SECTOR_SIZE=4096',)\n",
      "('DEFAULT_SYNCHRONOUS=2',)\n",
      "('DEFAULT_WAL_AUTOCHECKPOINT=1000',)\n",
      "('DEFAULT_WAL_SYNCHRONOUS=2',)\n",
      "('DEFAULT_WORKER_THREADS=0',)\n",
      "('ENABLE_BYTECODE_VTAB',)\n",
      "('ENABLE_COLUMN_METADATA',)\n",
      "('ENABLE_DBPAGE_VTAB',)\n",
      "('ENABLE_DBSTAT_VTAB',)\n",
      "('ENABLE_FTS3',)\n",
      "('ENABLE_FTS4',)\n",
      "('ENABLE_FTS5',)\n",
      "('ENABLE_GEOPOLY',)\n",
      "('ENABLE_JSON1',)\n",
      "('ENABLE_MATH_FUNCTIONS',)\n",
      "('ENABLE_PREUPDATE_HOOK',)\n",
      "('ENABLE_RTREE',)\n",
      "('ENABLE_SESSION',)\n",
      "('ENABLE_STMTVTAB',)\n",
      "('MALLOC_SOFT_LIMIT=1024',)\n",
      "('MAX_ATTACHED=10',)\n",
      "('MAX_COLUMN=2000',)\n",
      "('MAX_COMPOUND_SELECT=500',)\n",
      "('MAX_DEFAULT_PAGE_SIZE=8192',)\n",
      "('MAX_EXPR_DEPTH=1000',)\n",
      "('MAX_FUNCTION_ARG=127',)\n",
      "('MAX_LENGTH=1000000000',)\n",
      "('MAX_LIKE_PATTERN_LENGTH=50000',)\n",
      "('MAX_MMAP_SIZE=0x7fff0000',)\n",
      "('MAX_PAGE_COUNT=1073741823',)\n",
      "('MAX_PAGE_SIZE=65536',)\n",
      "('MAX_SQL_LENGTH=1000000000',)\n",
      "('MAX_TRIGGER_DEPTH=100',)\n",
      "('MAX_VARIABLE_NUMBER=32766',)\n",
      "('MAX_VDBE_OP=250000000',)\n",
      "('MAX_WORKER_THREADS=8',)\n",
      "('MUTEX_W32',)\n",
      "('SYSTEM_MALLOC',)\n",
      "('TEMP_STORE=1',)\n",
      "('THREADSAFE=1',)\n",
      "\n",
      "Operating System: Windows 10\n",
      "Platform: CPython 3.9.7\n",
      "SQLite: 3.37.2\n"
     ]
    }
   ],
   "source": [
    "#Enabling the FTS4/FTS5 SQLITE virtual tables for sqlite seach operation\n",
    "import sqlite3, platform\n",
    "\n",
    "print('sqlite {}'.format(sqlite3.version_info))\n",
    "print('sqlite {}'.format(sqlite3.sqlite_version_info))\n",
    "print('sqlite {}'.format(sqlite3.__file__))\n",
    "\n",
    "db = sqlite3.connect(':memory:') # memory stream\n",
    "cursor = db.cursor()\n",
    "\n",
    "results = cursor.execute(\"pragma compile_options\")\n",
    "\n",
    "for r in results:\n",
    "    print(r)\n",
    "\n",
    "print()\n",
    "print(\"Operating System: {} {}\".format(platform.system(), platform.release()))\n",
    "print(\"Platform: {} {}\".format(platform.python_implementation(),platform.python_version()))\n",
    "print(\"SQLite: {}\".format(sqlite3.sqlite_version))"
   ]
  },
  {
   "cell_type": "code",
   "execution_count": 46,
   "metadata": {},
   "outputs": [],
   "source": [
    "# perform the match using fuzzymatcher method\n",
    "# this method is doing best match score based on similarity for the given dataframe columns.\n",
    "matched_results = fuzzymatcher.fuzzy_left_join(Query_df,reference_df,right_on,\n",
    "                                               left_on,left_id_col='id',right_id_col='id')"
   ]
  },
  {
   "cell_type": "code",
   "execution_count": 47,
   "metadata": {},
   "outputs": [
    {
     "data": {
      "text/plain": [
       "Index(['best_match_score', '__id_left', '__id_right', 'id_left', 'name_left',\n",
       "       'address_left', 'city_left', 'cuisine_left', 'reference_id',\n",
       "       'score(optional)', 'id_right', 'name_right', 'address_right',\n",
       "       'city_right', 'cuisine_right'],\n",
       "      dtype='object')"
      ]
     },
     "execution_count": 47,
     "metadata": {},
     "output_type": "execute_result"
    }
   ],
   "source": [
    "matched_results.columns"
   ]
  },
  {
   "cell_type": "code",
   "execution_count": 48,
   "metadata": {},
   "outputs": [
    {
     "data": {
      "text/plain": [
       "(82, 15)"
      ]
     },
     "execution_count": 48,
     "metadata": {},
     "output_type": "execute_result"
    }
   ],
   "source": [
    "cols = [\"best_match_score\",\"__id_left\",\"__id_right\",\"name_left\",\"name_right\",\"address_left\",\"address_right\",\"city_left\",\"city_right\",\"cuisine_left\",\"cuisine_right\"]\n",
    "matched_results.shape"
   ]
  },
  {
   "cell_type": "code",
   "execution_count": 49,
   "metadata": {},
   "outputs": [],
   "source": [
    "#Renaming the 'best_match_score' dataframe column to 'score'\n",
    "matched_results.rename(columns={\"best_match_score\":\"score\"}, inplace=True)\n",
    "\n",
    "#Converting matched score to redable format using apply/map with lamda function\n",
    "#lamda function is efficient inline function\n",
    "matched_results['score'] = matched_results['score'].apply(lambda score: score * 100)\n",
    "#matched_results['score'] = matched_results['score'].map(lambda score: score * 100)"
   ]
  },
  {
   "cell_type": "code",
   "execution_count": 50,
   "metadata": {},
   "outputs": [
    {
     "data": {
      "text/html": [
       "<div>\n",
       "<style scoped>\n",
       "    .dataframe tbody tr th:only-of-type {\n",
       "        vertical-align: middle;\n",
       "    }\n",
       "\n",
       "    .dataframe tbody tr th {\n",
       "        vertical-align: top;\n",
       "    }\n",
       "\n",
       "    .dataframe thead th {\n",
       "        text-align: right;\n",
       "    }\n",
       "</style>\n",
       "<table border=\"1\" class=\"dataframe\">\n",
       "  <thead>\n",
       "    <tr style=\"text-align: right;\">\n",
       "      <th></th>\n",
       "      <th>score</th>\n",
       "      <th>__id_left</th>\n",
       "      <th>__id_right</th>\n",
       "      <th>id_left</th>\n",
       "      <th>name_left</th>\n",
       "      <th>address_left</th>\n",
       "      <th>city_left</th>\n",
       "      <th>cuisine_left</th>\n",
       "      <th>reference_id</th>\n",
       "      <th>score(optional)</th>\n",
       "      <th>id_right</th>\n",
       "      <th>name_right</th>\n",
       "      <th>address_right</th>\n",
       "      <th>city_right</th>\n",
       "      <th>cuisine_right</th>\n",
       "    </tr>\n",
       "  </thead>\n",
       "  <tbody>\n",
       "    <tr>\n",
       "      <th>0</th>\n",
       "      <td>38.0</td>\n",
       "      <td>1001</td>\n",
       "      <td>30</td>\n",
       "      <td>1001</td>\n",
       "      <td>chanterelle</td>\n",
       "      <td>2 harrison st.</td>\n",
       "      <td>new york city</td>\n",
       "      <td>french (new)</td>\n",
       "      <td>31.0</td>\n",
       "      <td>70.0</td>\n",
       "      <td>30</td>\n",
       "      <td>chanterelle</td>\n",
       "      <td>2 harrison st.  near hudson st.</td>\n",
       "      <td>new york</td>\n",
       "      <td>american</td>\n",
       "    </tr>\n",
       "    <tr>\n",
       "      <th>75</th>\n",
       "      <td>80.0</td>\n",
       "      <td>1002</td>\n",
       "      <td>31</td>\n",
       "      <td>1002</td>\n",
       "      <td>daniel</td>\n",
       "      <td>20 e. 76th st.</td>\n",
       "      <td>new york city</td>\n",
       "      <td>french (new)</td>\n",
       "      <td>32.0</td>\n",
       "      <td>90.0</td>\n",
       "      <td>31</td>\n",
       "      <td>daniel</td>\n",
       "      <td>20 e. 76th st.</td>\n",
       "      <td>new york</td>\n",
       "      <td>french</td>\n",
       "    </tr>\n",
       "  </tbody>\n",
       "</table>\n",
       "</div>"
      ],
      "text/plain": [
       "    score  __id_left  __id_right  id_left    name_left     address_left  \\\n",
       "0    38.0       1001          30     1001  chanterelle   2 harrison st.   \n",
       "75   80.0       1002          31     1002       daniel   20 e. 76th st.   \n",
       "\n",
       "         city_left   cuisine_left  reference_id  score(optional)  id_right  \\\n",
       "0    new york city   french (new)          31.0             70.0        30   \n",
       "75   new york city   french (new)          32.0             90.0        31   \n",
       "\n",
       "     name_right                     address_right city_right cuisine_right  \n",
       "0   chanterelle   2 harrison st.  near hudson st.   new york      american  \n",
       "75       daniel                    20 e. 76th st.   new york        french  "
      ]
     },
     "execution_count": 50,
     "metadata": {},
     "output_type": "execute_result"
    }
   ],
   "source": [
    "#rounding off the score value\n",
    "matched_results=matched_results.round({'score': 0})\n",
    "matched_results.head(2)"
   ]
  },
  {
   "cell_type": "code",
   "execution_count": 51,
   "metadata": {},
   "outputs": [],
   "source": [
    "#For Perfect match the score is 100. applying the same condition to entire dataframe\n",
    "matched_results['score'] = matched_results['score'].apply(lambda score: 100 if score >= 100 else score)"
   ]
  },
  {
   "cell_type": "code",
   "execution_count": 52,
   "metadata": {},
   "outputs": [],
   "source": [
    "#Renaming of dataframe columns to a redable format columns\n",
    "matched_results.rename(columns={\"best_match_score\":\"score\",\"__id_right\":\"reference_id\",\"name_left\":\"query_name\",\n",
    "\"address_left\":\"query_address\",\"city_left\":\"query_city\",\"cuisine_left\":\"query_cuisine\",\n",
    "\"name_right\":\"reference_name\",\n",
    "\"address_right\":\"reference_address\",\"city_right\":\"reference_city\",\"cuisine_right\":\"reference_cuisine\"}, inplace=True)"
   ]
  },
  {
   "cell_type": "code",
   "execution_count": 53,
   "metadata": {},
   "outputs": [],
   "source": [
    "#Selection of required dataframe columns only\n",
    "matched_results=matched_results[['query_name','query_address', 'query_city', 'query_cuisine','reference_name', 'reference_address',\n",
    "       'reference_city', 'reference_cuisine','reference_id','score']]"
   ]
  },
  {
   "cell_type": "code",
   "execution_count": 54,
   "metadata": {},
   "outputs": [
    {
     "data": {
      "text/plain": [
       "(82, 11)"
      ]
     },
     "execution_count": 54,
     "metadata": {},
     "output_type": "execute_result"
    }
   ],
   "source": [
    "matched_results.shape"
   ]
  },
  {
   "cell_type": "code",
   "execution_count": 55,
   "metadata": {},
   "outputs": [
    {
     "data": {
      "text/plain": [
       "(82, 10)"
      ]
     },
     "execution_count": 55,
     "metadata": {},
     "output_type": "execute_result"
    }
   ],
   "source": [
    "#Removal of duplicate columns\n",
    "matched_results = matched_results.loc[:,~matched_results.columns.duplicated()]\n",
    "matched_results.shape"
   ]
  },
  {
   "cell_type": "code",
   "execution_count": 56,
   "metadata": {},
   "outputs": [
    {
     "data": {
      "text/plain": [
       "78.0"
      ]
     },
     "execution_count": 56,
     "metadata": {},
     "output_type": "execute_result"
    }
   ],
   "source": [
    "#Calculating Partial Accuracy of the model with threshold of 30 or moe\n",
    "count=matched_results.loc[matched_results['score'] > 30.0].shape[0]\n",
    "tcount=matched_results.shape[0]\n",
    "PartialAccuracy=(count/tcount)*100\n",
    "round(PartialAccuracy,0)"
   ]
  },
  {
   "cell_type": "code",
   "execution_count": 57,
   "metadata": {},
   "outputs": [
    {
     "data": {
      "text/plain": [
       "63.0"
      ]
     },
     "execution_count": 57,
     "metadata": {},
     "output_type": "execute_result"
    }
   ],
   "source": [
    "#Calculating the Accuracy for a threshold of 50 and above matching score\n",
    "count=matched_results.loc[matched_results['score'] > 50.0].shape[0]\n",
    "tcount=matched_results.shape[0]\n",
    "Accuracy=(count/tcount)*100\n",
    "round(Accuracy,0)"
   ]
  },
  {
   "cell_type": "code",
   "execution_count": 58,
   "metadata": {},
   "outputs": [
    {
     "data": {
      "text/html": [
       "<div>\n",
       "<style scoped>\n",
       "    .dataframe tbody tr th:only-of-type {\n",
       "        vertical-align: middle;\n",
       "    }\n",
       "\n",
       "    .dataframe tbody tr th {\n",
       "        vertical-align: top;\n",
       "    }\n",
       "\n",
       "    .dataframe thead th {\n",
       "        text-align: right;\n",
       "    }\n",
       "</style>\n",
       "<table border=\"1\" class=\"dataframe\">\n",
       "  <thead>\n",
       "    <tr style=\"text-align: right;\">\n",
       "      <th></th>\n",
       "      <th>query_name</th>\n",
       "      <th>query_address</th>\n",
       "      <th>query_city</th>\n",
       "      <th>query_cuisine</th>\n",
       "      <th>reference_name</th>\n",
       "      <th>reference_address</th>\n",
       "      <th>reference_city</th>\n",
       "      <th>reference_cuisine</th>\n",
       "      <th>reference_id</th>\n",
       "      <th>score</th>\n",
       "    </tr>\n",
       "  </thead>\n",
       "  <tbody>\n",
       "    <tr>\n",
       "      <th>0</th>\n",
       "      <td>chanterelle</td>\n",
       "      <td>2 harrison st.</td>\n",
       "      <td>new york city</td>\n",
       "      <td>french (new)</td>\n",
       "      <td>chanterelle</td>\n",
       "      <td>2 harrison st.  near hudson st.</td>\n",
       "      <td>new york</td>\n",
       "      <td>american</td>\n",
       "      <td>30</td>\n",
       "      <td>38.0</td>\n",
       "    </tr>\n",
       "    <tr>\n",
       "      <th>75</th>\n",
       "      <td>daniel</td>\n",
       "      <td>20 e. 76th st.</td>\n",
       "      <td>new york city</td>\n",
       "      <td>french (new)</td>\n",
       "      <td>daniel</td>\n",
       "      <td>20 e. 76th st.</td>\n",
       "      <td>new york</td>\n",
       "      <td>french</td>\n",
       "      <td>31</td>\n",
       "      <td>80.0</td>\n",
       "    </tr>\n",
       "    <tr>\n",
       "      <th>107</th>\n",
       "      <td>dawat</td>\n",
       "      <td>210 e. 58th st.</td>\n",
       "      <td>new york city</td>\n",
       "      <td>indian</td>\n",
       "      <td>sparks steak house</td>\n",
       "      <td>210 e. 46th st.</td>\n",
       "      <td>new york city</td>\n",
       "      <td>steakhouses</td>\n",
       "      <td>640</td>\n",
       "      <td>6.0</td>\n",
       "    </tr>\n",
       "    <tr>\n",
       "      <th>116</th>\n",
       "      <td>felidia</td>\n",
       "      <td>243 e. 58th st.</td>\n",
       "      <td>new york city</td>\n",
       "      <td>italian</td>\n",
       "      <td>felidia</td>\n",
       "      <td>243 e. 58th st.</td>\n",
       "      <td>new york</td>\n",
       "      <td>italian</td>\n",
       "      <td>33</td>\n",
       "      <td>79.0</td>\n",
       "    </tr>\n",
       "    <tr>\n",
       "      <th>147</th>\n",
       "      <td>four seasons</td>\n",
       "      <td>99 e. 52nd st.</td>\n",
       "      <td>new york city</td>\n",
       "      <td>american (new)</td>\n",
       "      <td>arcadia</td>\n",
       "      <td>21 e. 62nd st.</td>\n",
       "      <td>new york city</td>\n",
       "      <td>american (new)</td>\n",
       "      <td>602</td>\n",
       "      <td>14.0</td>\n",
       "    </tr>\n",
       "    <tr>\n",
       "      <th>...</th>\n",
       "      <td>...</td>\n",
       "      <td>...</td>\n",
       "      <td>...</td>\n",
       "      <td>...</td>\n",
       "      <td>...</td>\n",
       "      <td>...</td>\n",
       "      <td>...</td>\n",
       "      <td>...</td>\n",
       "      <td>...</td>\n",
       "      <td>...</td>\n",
       "    </tr>\n",
       "    <tr>\n",
       "      <th>2790</th>\n",
       "      <td>mifune</td>\n",
       "      <td>1737 post st.</td>\n",
       "      <td>san francisco</td>\n",
       "      <td>japanese</td>\n",
       "      <td>mifune japan center  kintetsu building</td>\n",
       "      <td>1737 post st.</td>\n",
       "      <td>san francisco</td>\n",
       "      <td>asian</td>\n",
       "      <td>107</td>\n",
       "      <td>21.0</td>\n",
       "    </tr>\n",
       "    <tr>\n",
       "      <th>2840</th>\n",
       "      <td>plumpjack cafe</td>\n",
       "      <td>3127 fillmore st.</td>\n",
       "      <td>san francisco</td>\n",
       "      <td>american (new)</td>\n",
       "      <td>trio cafe</td>\n",
       "      <td>1870 fillmore st.</td>\n",
       "      <td>san francisco</td>\n",
       "      <td>american</td>\n",
       "      <td>748</td>\n",
       "      <td>6.0</td>\n",
       "    </tr>\n",
       "    <tr>\n",
       "      <th>2844</th>\n",
       "      <td>postrio</td>\n",
       "      <td>545 post st.</td>\n",
       "      <td>san francisco</td>\n",
       "      <td>californian</td>\n",
       "      <td>postrio</td>\n",
       "      <td>545 post st.</td>\n",
       "      <td>san francisco</td>\n",
       "      <td>american</td>\n",
       "      <td>109</td>\n",
       "      <td>61.0</td>\n",
       "    </tr>\n",
       "    <tr>\n",
       "      <th>2896</th>\n",
       "      <td>ritz-carlton dining room (san francisco)</td>\n",
       "      <td>600 stockton st.</td>\n",
       "      <td>san francisco</td>\n",
       "      <td>french (new)</td>\n",
       "      <td>ritz-carlton restaurant and dining room</td>\n",
       "      <td>600 stockton st.</td>\n",
       "      <td>san francisco</td>\n",
       "      <td>american</td>\n",
       "      <td>110</td>\n",
       "      <td>72.0</td>\n",
       "    </tr>\n",
       "    <tr>\n",
       "      <th>2951</th>\n",
       "      <td>rose pistola</td>\n",
       "      <td>532 columbus ave.</td>\n",
       "      <td>san francisco</td>\n",
       "      <td>italian</td>\n",
       "      <td>rose pistola</td>\n",
       "      <td>532 columbus ave.</td>\n",
       "      <td>san francisco</td>\n",
       "      <td>italian</td>\n",
       "      <td>111</td>\n",
       "      <td>100.0</td>\n",
       "    </tr>\n",
       "  </tbody>\n",
       "</table>\n",
       "<p>82 rows × 10 columns</p>\n",
       "</div>"
      ],
      "text/plain": [
       "                                    query_name       query_address  \\\n",
       "0                                  chanterelle      2 harrison st.   \n",
       "75                                      daniel      20 e. 76th st.   \n",
       "107                                      dawat     210 e. 58th st.   \n",
       "116                                    felidia     243 e. 58th st.   \n",
       "147                               four seasons      99 e. 52nd st.   \n",
       "...                                        ...                 ...   \n",
       "2790                                    mifune       1737 post st.   \n",
       "2840                            plumpjack cafe   3127 fillmore st.   \n",
       "2844                                   postrio        545 post st.   \n",
       "2896  ritz-carlton dining room (san francisco)    600 stockton st.   \n",
       "2951                              rose pistola   532 columbus ave.   \n",
       "\n",
       "          query_city    query_cuisine  \\\n",
       "0      new york city     french (new)   \n",
       "75     new york city     french (new)   \n",
       "107    new york city           indian   \n",
       "116    new york city          italian   \n",
       "147    new york city   american (new)   \n",
       "...              ...              ...   \n",
       "2790   san francisco         japanese   \n",
       "2840   san francisco   american (new)   \n",
       "2844   san francisco      californian   \n",
       "2896   san francisco     french (new)   \n",
       "2951   san francisco          italian   \n",
       "\n",
       "                               reference_name  \\\n",
       "0                                 chanterelle   \n",
       "75                                     daniel   \n",
       "107                        sparks steak house   \n",
       "116                                   felidia   \n",
       "147                                   arcadia   \n",
       "...                                       ...   \n",
       "2790   mifune japan center  kintetsu building   \n",
       "2840                                trio cafe   \n",
       "2844                                  postrio   \n",
       "2896  ritz-carlton restaurant and dining room   \n",
       "2951                             rose pistola   \n",
       "\n",
       "                     reference_address  reference_city reference_cuisine  \\\n",
       "0      2 harrison st.  near hudson st.        new york          american   \n",
       "75                      20 e. 76th st.        new york            french   \n",
       "107                    210 e. 46th st.   new york city       steakhouses   \n",
       "116                    243 e. 58th st.        new york           italian   \n",
       "147                     21 e. 62nd st.   new york city    american (new)   \n",
       "...                                ...             ...               ...   \n",
       "2790                     1737 post st.   san francisco             asian   \n",
       "2840                 1870 fillmore st.   san francisco          american   \n",
       "2844                      545 post st.   san francisco          american   \n",
       "2896                  600 stockton st.   san francisco          american   \n",
       "2951                 532 columbus ave.   san francisco           italian   \n",
       "\n",
       "      reference_id  score  \n",
       "0               30   38.0  \n",
       "75              31   80.0  \n",
       "107            640    6.0  \n",
       "116             33   79.0  \n",
       "147            602   14.0  \n",
       "...            ...    ...  \n",
       "2790           107   21.0  \n",
       "2840           748    6.0  \n",
       "2844           109   61.0  \n",
       "2896           110   72.0  \n",
       "2951           111  100.0  \n",
       "\n",
       "[82 rows x 10 columns]"
      ]
     },
     "execution_count": 58,
     "metadata": {},
     "output_type": "execute_result"
    }
   ],
   "source": [
    "#query_name,  query_address, query_city, query_cuisine  are Query dataframe columns\n",
    "#reference_name reference_address reference_city reference_cuisine are reference dataframe columns\n",
    "#reference_id, score  are fuzzymatch reference_id pulled from reference_df dataframe and 'score' is fuzzy match score\n",
    "matched_results"
   ]
  },
  {
   "cell_type": "markdown",
   "metadata": {},
   "source": [
    "# Fuzzy matching Batch Method-1:"
   ]
  },
  {
   "cell_type": "code",
   "execution_count": 59,
   "metadata": {},
   "outputs": [],
   "source": [
    "##Local file path to save the results\n",
    "matched_results.to_csv('C:\\\\Sanjeev\\\\Juniper\\\\match_query02.csv')"
   ]
  },
  {
   "cell_type": "code",
   "execution_count": 60,
   "metadata": {},
   "outputs": [
    {
     "data": {
      "text/plain": [
       "85"
      ]
     },
     "execution_count": 60,
     "metadata": {},
     "output_type": "execute_result"
    }
   ],
   "source": [
    "#Interactive method to test the matching strings\n",
    "from fuzzywuzzy import fuzz\n",
    "fuzz.ratio('daniel20 e.76th st. new york city french (new)','daniel20 e. 76th st. new york french')\n",
    "#fuzz.ratio(Query_df['name'][0], Query_df['name'][0])"
   ]
  },
  {
   "cell_type": "markdown",
   "metadata": {},
   "source": [
    "# Fuzzy matching Batch Method-2 (Improved method)"
   ]
  },
  {
   "cell_type": "code",
   "execution_count": 61,
   "metadata": {},
   "outputs": [
    {
     "data": {
      "text/plain": [
       "(Index(['id', 'name', 'address', 'city', 'cuisine', 'reference_id',\n",
       "        'score(optional)'],\n",
       "       dtype='object'),\n",
       " Index(['id', 'name', 'address', 'city', 'cuisine'], dtype='object'))"
      ]
     },
     "execution_count": 61,
     "metadata": {},
     "output_type": "execute_result"
    }
   ],
   "source": [
    "Query_df.columns, reference_df.columns"
   ]
  },
  {
   "cell_type": "code",
   "execution_count": 62,
   "metadata": {},
   "outputs": [],
   "source": [
    "#Combining \"name,address,city,cuisine\" columns of Query/refernce data frame to create new column.\n",
    "Query_df['NameAddressCityCuisine']=Query_df['name']+Query_df['address']+Query_df['city']+Query_df['cuisine']\n",
    "reference_df['NameAddressCityCuisine']=reference_df['name']+reference_df['address']+reference_df['city']+reference_df['cuisine']"
   ]
  },
  {
   "cell_type": "code",
   "execution_count": 63,
   "metadata": {},
   "outputs": [
    {
     "data": {
      "text/html": [
       "<div>\n",
       "<style scoped>\n",
       "    .dataframe tbody tr th:only-of-type {\n",
       "        vertical-align: middle;\n",
       "    }\n",
       "\n",
       "    .dataframe tbody tr th {\n",
       "        vertical-align: top;\n",
       "    }\n",
       "\n",
       "    .dataframe thead th {\n",
       "        text-align: right;\n",
       "    }\n",
       "</style>\n",
       "<table border=\"1\" class=\"dataframe\">\n",
       "  <thead>\n",
       "    <tr style=\"text-align: right;\">\n",
       "      <th></th>\n",
       "      <th>id</th>\n",
       "      <th>name</th>\n",
       "      <th>address</th>\n",
       "      <th>city</th>\n",
       "      <th>cuisine</th>\n",
       "      <th>NameAddressCityCuisine</th>\n",
       "    </tr>\n",
       "  </thead>\n",
       "  <tbody>\n",
       "    <tr>\n",
       "      <th>0</th>\n",
       "      <td>0</td>\n",
       "      <td>arnie morton's of chicago</td>\n",
       "      <td>435 s. la cienega blv.</td>\n",
       "      <td>los angeles</td>\n",
       "      <td>american</td>\n",
       "      <td>arnie morton's of chicago 435 s. la cienega bl...</td>\n",
       "    </tr>\n",
       "    <tr>\n",
       "      <th>1</th>\n",
       "      <td>1</td>\n",
       "      <td>art's delicatessen</td>\n",
       "      <td>12224 ventura blvd.</td>\n",
       "      <td>studio city</td>\n",
       "      <td>american</td>\n",
       "      <td>art's delicatessen 12224 ventura blvd. studio ...</td>\n",
       "    </tr>\n",
       "  </tbody>\n",
       "</table>\n",
       "</div>"
      ],
      "text/plain": [
       "   id                       name                  address          city  \\\n",
       "0   0  arnie morton's of chicago   435 s. la cienega blv.   los angeles   \n",
       "1   1         art's delicatessen      12224 ventura blvd.   studio city   \n",
       "\n",
       "     cuisine                             NameAddressCityCuisine  \n",
       "0   american  arnie morton's of chicago 435 s. la cienega bl...  \n",
       "1   american  art's delicatessen 12224 ventura blvd. studio ...  "
      ]
     },
     "execution_count": 63,
     "metadata": {},
     "output_type": "execute_result"
    }
   ],
   "source": [
    "#Addition of new column 'NameAddressCityCuisine' for Query_df and reference_df.\n",
    "reference_df.head(2)"
   ]
  },
  {
   "cell_type": "code",
   "execution_count": 64,
   "metadata": {},
   "outputs": [],
   "source": [
    "#Importing process and fuzz packages.\n",
    "from fuzzywuzzy import process\n",
    "from fuzzywuzzy import fuzz"
   ]
  },
  {
   "cell_type": "code",
   "execution_count": 65,
   "metadata": {},
   "outputs": [],
   "source": [
    "#Python method to extract the match and its score from reference dataframe.\n",
    "#This method is more effective and efficient in terms of accuracy/performance i.e accuracy#80%\n",
    "def fuzzy_match(x, choices, scorer, cutoff):\n",
    "    return process.extractOne(x, choices=choices, scorer=scorer, score_cutoff=cutoff)\n",
    "\n",
    "FuzzyWuzzyResults = Query_df.loc[:,'NameAddressCityCuisine'].apply(fuzzy_match, args=(reference_df.loc[:,'NameAddressCityCuisine'], fuzz.token_set_ratio,80))\n",
    "#FuzzyWuzzyResults = Query_df.loc[:,'NameAddressCityCuisine'].apply(fuzzy_match, args=(reference_df.loc[:,'NameAddressCityCuisine'], fuzz.token_sort_ratio,80))"
   ]
  },
  {
   "cell_type": "markdown",
   "metadata": {},
   "source": [
    "# Results format:\n",
    "#Query datafarme combined column string (NameAddressCityCuisine), Match score, Record linkage reference from Reference dataframe.\n",
    "#('chanterelle 2 harrison st.  near hudson st. new york american', 85, 30)"
   ]
  },
  {
   "cell_type": "code",
   "execution_count": 66,
   "metadata": {},
   "outputs": [],
   "source": [
    "#Local file path to save the results for validation\n",
    "FuzzyWuzzyResults.to_csv('C:\\\\Sanjeev\\\\Juniper\\\\FuzzyWuzzyResults.csv')"
   ]
  },
  {
   "cell_type": "markdown",
   "metadata": {},
   "source": [
    "# Fuzzy matching Interactive Method-1:"
   ]
  },
  {
   "cell_type": "code",
   "execution_count": 67,
   "metadata": {},
   "outputs": [
    {
     "data": {
      "text/plain": [
       "100"
      ]
     },
     "execution_count": 67,
     "metadata": {},
     "output_type": "execute_result"
    }
   ],
   "source": [
    "#Interactive method for Exact match with different case in string.\n",
    "fuzz.token_sort_ratio('chanterelle 2 Harrison st.  near hudson st. new york american', 'Chanterelle 2 harrison st.  Near hudson st. new york american')"
   ]
  },
  {
   "cell_type": "markdown",
   "metadata": {},
   "source": [
    "# Fuzzy matching Interactive Method-2:"
   ]
  },
  {
   "cell_type": "code",
   "execution_count": 68,
   "metadata": {},
   "outputs": [
    {
     "data": {
      "text/plain": [
       "100"
      ]
     },
     "execution_count": 68,
     "metadata": {},
     "output_type": "execute_result"
    }
   ],
   "source": [
    "#Exact match for different case and in different order of words.\n",
    "fuzz.token_sort_ratio('chanterelle 2 Harrison st.  near hudson st. new york american', 'new york american Chanterelle 2 harrison st.  Near hudson st. ')"
   ]
  },
  {
   "cell_type": "code",
   "execution_count": null,
   "metadata": {},
   "outputs": [],
   "source": []
  }
 ],
 "metadata": {
  "kernelspec": {
   "display_name": "Python 3 (ipykernel)",
   "language": "python",
   "name": "python3"
  },
  "language_info": {
   "codemirror_mode": {
    "name": "ipython",
    "version": 3
   },
   "file_extension": ".py",
   "mimetype": "text/x-python",
   "name": "python",
   "nbconvert_exporter": "python",
   "pygments_lexer": "ipython3",
   "version": "3.9.7"
  }
 },
 "nbformat": 4,
 "nbformat_minor": 4
}
